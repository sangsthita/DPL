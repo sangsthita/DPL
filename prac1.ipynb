{
 "cells": [
  {
   "cell_type": "code",
   "execution_count": 11,
   "metadata": {},
   "outputs": [
    {
     "name": "stdout",
     "output_type": "stream",
     "text": [
      "Output of the forward pass: [[0.168]]\n"
     ]
    }
   ],
   "source": [
    "## Deep Learning Lab work - 1 \n",
    "# Name : Athar Sayed \n",
    "# Title : Forward Propagation in a Multi-Layer Neural Network with ReLU Activation\n",
    "\n",
    "import pandas as pd\n",
    "import numpy as np\n",
    "\n",
    "df = pd.DataFrame([[8,8,4], [7,9,5], [6,10,6], [5,12,7]], columns=['cgpa', 'profile_score', 'lpa'])\n",
    "\n",
    "def initialize_parameters(layers_dims):\n",
    "    np.random.seed(3)\n",
    "    parameters = {}\n",
    "    L = len(layers_dims)\n",
    "    for i in range(1, L):\n",
    "        parameters['W' + str(i)] = np.ones((layers_dims[i-1], layers_dims[i])) * 0.1\n",
    "        parameters['b' + str(i)] = np.zeros((layers_dims[i], 1))\n",
    "    return parameters\n",
    "\n",
    "def linear_forward(A_prev, W, b):\n",
    "    Z = np.dot(W.T, A_prev) + b\n",
    "    return Z\n",
    "\n",
    "def relu(Z):\n",
    "    return np.maximum(0, Z)\n",
    "\n",
    "def L_layer_forward(X, parameters):\n",
    "    A = X\n",
    "    caches = []\n",
    "    L = len(parameters) // 2  # number of layers\n",
    "    for i in range(1, L):\n",
    "        A_prev = A\n",
    "        W = parameters['W' + str(i)]\n",
    "        b = parameters['b' + str(i)]\n",
    "        Z = linear_forward(A_prev, W, b)\n",
    "        A = relu(Z)\n",
    "        cache = (A_prev, W, b, Z)\n",
    "        caches.append(cache)\n",
    "    \n",
    "    # Output layer (after the loop)\n",
    "    W_out = parameters['W' + str(L)]\n",
    "    b_out = parameters['b' + str(L)]\n",
    "    Z_out = linear_forward(A, W_out, b_out)\n",
    "    AL = Z_out\n",
    "    \n",
    "    return AL, caches\n",
    "\n",
    "# Example of calling the functions\n",
    "layers_dims = [3, 4, 2, 1]  # Example dimensions (input size 3, two hidden layers with 4 and 2 neurons, output size 1)\n",
    "parameters = initialize_parameters(layers_dims)\n",
    "X = np.array([[8], [7], [6]])  # Example input\n",
    "\n",
    "AL, caches = L_layer_forward(X, parameters)\n",
    "print(\"Output of the forward pass:\", AL)\n"
   ]
  },
  {
   "cell_type": "code",
   "execution_count": null,
   "metadata": {},
   "outputs": [],
   "source": []
  }
 ],
 "metadata": {
  "kernelspec": {
   "display_name": "Python 3",
   "language": "python",
   "name": "python3"
  },
  "language_info": {
   "codemirror_mode": {
    "name": "ipython",
    "version": 3
   },
   "file_extension": ".py",
   "mimetype": "text/x-python",
   "name": "python",
   "nbconvert_exporter": "python",
   "pygments_lexer": "ipython3",
   "version": "3.11.3"
  }
 },
 "nbformat": 4,
 "nbformat_minor": 2
}
